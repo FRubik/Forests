{
 "cells": [
  {
   "cell_type": "code",
   "execution_count": null,
   "metadata": {},
   "outputs": [],
   "source": [
    "# Library\n",
    "import pandas as pd\n",
    "import numpy as np\n",
    "\n",
    "from sklearn.model_selection import train_test_split\n",
    "from sklearn.ensemble import ExtraTreesClassifier\n",
    "from sklearn.ensemble import RandomForestClassifier\n",
    "from sklearn import tree"
   ]
  },
  {
   "cell_type": "code",
   "execution_count": null,
   "metadata": {},
   "outputs": [],
   "source": [
    "# Open CSV\n",
    "dados = pd.read_csv('wine_dataset.csv')\n",
    "dados"
   ]
  },
  {
   "cell_type": "code",
   "execution_count": null,
   "metadata": {},
   "outputs": [],
   "source": [
    "# Missing values\n",
    "NanNumber = (dados.isnull().sum() / len(dados))*100\n",
    "print(NanNumber)"
   ]
  },
  {
   "cell_type": "code",
   "execution_count": null,
   "metadata": {},
   "outputs": [],
   "source": [
    "# Split into features and target\n",
    "y = dados['style']\n",
    "x = dados.drop('style', axis = 1)"
   ]
  },
  {
   "cell_type": "code",
   "execution_count": null,
   "metadata": {},
   "outputs": [],
   "source": [
    "# Split into train and test dataset\n",
    "x_train, x_test, y_train, y_test = train_test_split(x, y, test_size = 0.3)"
   ]
  },
  {
   "cell_type": "code",
   "execution_count": null,
   "metadata": {},
   "outputs": [],
   "source": [
    "# Model\n",
    "model_tree = tree.DecisionTreeClassifier()\n",
    "model_tree.fit(x_train, y_train)\n",
    "\n",
    "# Accuracy\n",
    "result = model_tree.score(x_test, y_test)\n",
    "print('Accuracy:', result)"
   ]
  },
  {
   "cell_type": "code",
   "execution_count": null,
   "metadata": {},
   "outputs": [],
   "source": [
    "acc = []\n",
    "for i in range(100):\n",
    "    # Model\n",
    "    modelo = tree.DecisionTreeClassifier()\n",
    "    modelo.fit(x_train, y_train)\n",
    "\n",
    "    # Result\n",
    "    result = modelo.score(x_test, y_test)\n",
    "    acc.append(result)\n",
    "acc.sort()\n",
    "\n",
    "print(np.round(acc, 4))"
   ]
  },
  {
   "cell_type": "code",
   "execution_count": null,
   "metadata": {},
   "outputs": [],
   "source": [
    "# Random Forest model\n",
    "Modelo_Forest = RandomForestClassifier()\n",
    "Modelo_Forest.fit(x_train, y_train)\n",
    "\n",
    "# Accuracy\n",
    "resultado = Modelo_Forest.score(x_test, y_test)\n",
    "print('Acurácia:', resultado)"
   ]
  },
  {
   "cell_type": "code",
   "execution_count": null,
   "metadata": {},
   "outputs": [],
   "source": [
    "# Extra Tree model\n",
    "Modelo_Extra = ExtraTreesClassifier()\n",
    "Modelo_Extra.fit(x_train, y_train)\n",
    "\n",
    "# Accuracy\n",
    "resultado = Modelo_Extra.score(x_test, y_test)\n",
    "print('Acurácia:', resultado)"
   ]
  }
 ],
 "metadata": {
  "kernelspec": {
   "display_name": "Python 3",
   "language": "python",
   "name": "python3"
  },
  "language_info": {
   "codemirror_mode": {
    "name": "ipython",
    "version": 3
   },
   "file_extension": ".py",
   "mimetype": "text/x-python",
   "name": "python",
   "nbconvert_exporter": "python",
   "pygments_lexer": "ipython3",
   "version": "3.8.6"
  }
 },
 "nbformat": 4,
 "nbformat_minor": 4
}
